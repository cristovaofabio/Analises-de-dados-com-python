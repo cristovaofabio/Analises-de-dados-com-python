{
 "cells": [
  {
   "cell_type": "code",
   "execution_count": null,
   "metadata": {
    "collapsed": false
   },
   "outputs": [],
   "source": [
    "print(\"Bem vindo ao python!\")"
   ]
  },
  {
   "cell_type": "code",
   "execution_count": null,
   "metadata": {
    "collapsed": false
   },
   "outputs": [],
   "source": [
    "2+2"
   ]
  },
  {
   "cell_type": "markdown",
   "metadata": {},
   "source": [
    "Este é um notebook de exemplo"
   ]
  },
  {
   "cell_type": "code",
   "execution_count": null,
   "metadata": {
    "collapsed": true
   },
   "outputs": [],
   "source": [
    "#comentario"
   ]
  },
  {
   "cell_type": "code",
   "execution_count": 1,
   "metadata": {
    "collapsed": true
   },
   "outputs": [],
   "source": [
    "import sqlite3\n",
    "import random\n",
    "import time\n",
    "import datetime\n",
    "#criando/conectando ao banco de dados\n",
    "conexao=sqlite3.connect('teste.db')\n",
    "#criando um cursor para percorrer o banco de dados\n",
    "c=conexao.cursor()\n",
    "def create_table():\n",
    "\tc.execute('CREATE TABLE IF NOT EXISTS prod(id INTEGER PRIMARY KEY AUTOINCREMENT NOT NULL, date TEXT, prod_nome VARCHAR(100), valor REAL)')\n",
    "def dat_insert():\n",
    "\tc.execute(\"INSERT INTO prod VALUES('2016-05-02','Teclado',90)\")\n",
    "\tconexao.commit()\n",
    "\tc.close()\n",
    "\tconexao.close()\n",
    "def view_insert():\n",
    "\tc.execute('SELECT * FROM prod')\n",
    "\tdados = c.fetchall()\n",
    "\tfor dado in dados:\n",
    "\t\tprint('Id: %d, date: %s, nome: %s, valor: %d'%dado)"
   ]
  },
  {
   "cell_type": "code",
   "execution_count": null,
   "metadata": {
    "collapsed": false
   },
   "outputs": [],
   "source": [
    "create_table()"
   ]
  },
  {
   "cell_type": "code",
   "execution_count": null,
   "metadata": {
    "collapsed": true
   },
   "outputs": [],
   "source": [
    "dat_insert()"
   ]
  },
  {
   "cell_type": "code",
   "execution_count": null,
   "metadata": {
    "collapsed": true
   },
   "outputs": [],
   "source": [
    "view_insert()\n",
    "conexao.close()"
   ]
  },
  {
   "cell_type": "code",
   "execution_count": null,
   "metadata": {
    "collapsed": false
   },
   "outputs": [],
   "source": []
  },
  {
   "cell_type": "code",
   "execution_count": null,
   "metadata": {
    "collapsed": true
   },
   "outputs": [],
   "source": []
  }
 ],
 "metadata": {
  "kernelspec": {
   "display_name": "Python 3",
   "language": "python",
   "name": "python3"
  },
  "language_info": {
   "codemirror_mode": {
    "name": "ipython",
    "version": 3
   },
   "file_extension": ".py",
   "mimetype": "text/x-python",
   "name": "python",
   "nbconvert_exporter": "python",
   "pygments_lexer": "ipython3",
   "version": "3.6.0"
  }
 },
 "nbformat": 4,
 "nbformat_minor": 2
}
